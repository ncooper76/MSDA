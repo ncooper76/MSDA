{
 "cells": [
  {
   "cell_type": "markdown",
   "metadata": {},
   "source": [
    "DATA 643 Project 1:\n",
    "\n",
    "Angus, Pavan, Nathan\n",
    "\n",
    "We built a simple recommender system for American TV sit-coms. This system will take user input for a sit com and predict the user's preference for possible unwatched sitcoms. This is similar in approach to systems used by Netflix, Hulu and Amazon Prime.\n",
    "\n",
    "We used Facebook to collect data on 5 popular American TV sitcoms: The Big Bang Theory,\tBrooklyn 99, It's Always Sunny in Philadelphia,\tThe Goldbergs, and The Unbreakable Kimmy Schmidt. Facebook friends were asked to rate these shows from 1 for 'Awful' to 5 for 'Outstanding' and to leave blank un-watched shows using a Google Docs Quiz. The data from the Google We will in turn use these data to generate a basic recommendation system for a test set of withheld data and unwatched shows. "
   ]
  },
  {
   "cell_type": "markdown",
   "metadata": {},
   "source": []
  },
  {
   "cell_type": "code",
   "execution_count": 1,
   "metadata": {},
   "outputs": [],
   "source": [
    "#import desired packages here:\n",
    "import pandas as pd\n",
    "from matplotlib import pyplot as plt"
   ]
  },
  {
   "cell_type": "code",
   "execution_count": 2,
   "metadata": {
    "scrolled": true
   },
   "outputs": [
    {
     "data": {
      "text/html": [
       "<div>\n",
       "<style scoped>\n",
       "    .dataframe tbody tr th:only-of-type {\n",
       "        vertical-align: middle;\n",
       "    }\n",
       "\n",
       "    .dataframe tbody tr th {\n",
       "        vertical-align: top;\n",
       "    }\n",
       "\n",
       "    .dataframe thead th {\n",
       "        text-align: right;\n",
       "    }\n",
       "</style>\n",
       "<table border=\"1\" class=\"dataframe\">\n",
       "  <thead>\n",
       "    <tr style=\"text-align: right;\">\n",
       "      <th></th>\n",
       "      <th>Brooklyn 99</th>\n",
       "      <th>It's Always Sunny in Philadelphia</th>\n",
       "      <th>The Big Bang Theory</th>\n",
       "      <th>The Goldbergs</th>\n",
       "      <th>Unbreakable Kimmy Schmidt</th>\n",
       "    </tr>\n",
       "  </thead>\n",
       "  <tbody>\n",
       "    <tr>\n",
       "      <th>0</th>\n",
       "      <td>5.0</td>\n",
       "      <td>NaN</td>\n",
       "      <td>1.0</td>\n",
       "      <td>2.0</td>\n",
       "      <td>3.0</td>\n",
       "    </tr>\n",
       "    <tr>\n",
       "      <th>1</th>\n",
       "      <td>2.0</td>\n",
       "      <td>3.0</td>\n",
       "      <td>3.0</td>\n",
       "      <td>2.0</td>\n",
       "      <td>1.0</td>\n",
       "    </tr>\n",
       "    <tr>\n",
       "      <th>2</th>\n",
       "      <td>NaN</td>\n",
       "      <td>NaN</td>\n",
       "      <td>4.0</td>\n",
       "      <td>NaN</td>\n",
       "      <td>NaN</td>\n",
       "    </tr>\n",
       "    <tr>\n",
       "      <th>3</th>\n",
       "      <td>4.0</td>\n",
       "      <td>NaN</td>\n",
       "      <td>1.0</td>\n",
       "      <td>3.0</td>\n",
       "      <td>5.0</td>\n",
       "    </tr>\n",
       "    <tr>\n",
       "      <th>4</th>\n",
       "      <td>NaN</td>\n",
       "      <td>2.0</td>\n",
       "      <td>2.0</td>\n",
       "      <td>NaN</td>\n",
       "      <td>3.0</td>\n",
       "    </tr>\n",
       "    <tr>\n",
       "      <th>5</th>\n",
       "      <td>3.0</td>\n",
       "      <td>NaN</td>\n",
       "      <td>1.0</td>\n",
       "      <td>3.0</td>\n",
       "      <td>4.0</td>\n",
       "    </tr>\n",
       "  </tbody>\n",
       "</table>\n",
       "</div>"
      ],
      "text/plain": [
       "   Brooklyn 99  It's Always Sunny in Philadelphia  The Big Bang Theory  \\\n",
       "0          5.0                                NaN                  1.0   \n",
       "1          2.0                                3.0                  3.0   \n",
       "2          NaN                                NaN                  4.0   \n",
       "3          4.0                                NaN                  1.0   \n",
       "4          NaN                                2.0                  2.0   \n",
       "5          3.0                                NaN                  1.0   \n",
       "\n",
       "   The Goldbergs  Unbreakable Kimmy Schmidt  \n",
       "0            2.0                        3.0  \n",
       "1            2.0                        1.0  \n",
       "2            NaN                        NaN  \n",
       "3            3.0                        5.0  \n",
       "4            NaN                        3.0  \n",
       "5            3.0                        4.0  "
      ]
     },
     "execution_count": 2,
     "metadata": {},
     "output_type": "execute_result"
    }
   ],
   "source": [
    "tv_df = pd.read_csv('https://raw.githubusercontent.com/ncooper76/MSDA/master/TV_Show_Preferences.csv')\n",
    "tv_df = tv_df.drop(columns=[\"Timestamp\"])\n",
    "tv_df = tv_df[sorted(tv_df.columns)]\n",
    "tv_df.head(6)"
   ]
  },
  {
   "cell_type": "markdown",
   "metadata": {},
   "source": [
    "Below scatter plot shows the distribution of ratings each show had received. A different color represents a different show.\n",
    "The blue color is for \"The Big Bang Theory\", the yellow color is for \"Brooklyn 99\", the red color is for \"It's always sunny in Philadaphia\" ,and so."
   ]
  },
  {
   "cell_type": "code",
   "execution_count": 3,
   "metadata": {},
   "outputs": [
    {
     "data": {
      "image/png": "[encoded data removed]",
      "text/plain": [
       "<Figure size 432x288 with 1 Axes>"
      ]
     },
     "metadata": {},
     "output_type": "display_data"
    }
   ],
   "source": [
    "# Add Data visualization of the dataset\n",
    "\n",
    "tv3 = tv_df\n",
    "tv3.insert(0, \"New_ID\", range(1, 1+len(tv3)))\n",
    "ta = tv3.New_ID.values\n",
    "t1 = tv3['The Big Bang Theory'].values\n",
    "t2 = tv3['Brooklyn 99'].values\n",
    "t3 = tv3[\"It's Always Sunny in Philadelphia\"].values\n",
    "t4 = tv3['The Goldbergs'].values\n",
    "t5 = tv3['Unbreakable Kimmy Schmidt'].values\n",
    "plt.scatter(ta,t1, c = 'blue', s = 7)\n",
    "plt.scatter(ta,t2, c = 'yellow', s = 7)\n",
    "plt.scatter(ta,t3, c ='red', s = 7)\n",
    "plt.scatter(ta,t4, c = 'green', s = 7)\n",
    "plt.scatter(ta,t5, c = 'black', s = 7)\n",
    "plt.show()"
   ]
  },
  {
   "cell_type": "code",
   "execution_count": 4,
   "metadata": {},
   "outputs": [
    {
     "name": "stdout",
     "output_type": "stream",
     "text": [
      "3.127906976744186\n",
      "Brooklyn 99                          3.500000\n",
      "It's Always Sunny in Philadelphia    2.615385\n",
      "The Big Bang Theory                  3.347826\n",
      "The Goldbergs                        2.800000\n",
      "Unbreakable Kimmy Schmidt            3.157895\n",
      "dtype: float64\n",
      "0    2.750000\n",
      "1    2.200000\n",
      "2    4.000000\n",
      "3    3.250000\n",
      "4    2.333333\n",
      "5    2.750000\n",
      "dtype: float64\n"
     ]
    }
   ],
   "source": [
    "tv_df = tv_df.drop(columns=[\"New_ID\"])\n",
    "tv_df_mean = tv_df.stack().mean(skipna = True) #stack makes the DF one column, mean takes the mean of that colunm.\n",
    "print(tv_df_mean) # 3.1279... agrees with the average taken in Google Sheets\n",
    "#below are the means for the rows and the columns of the dataframe\n",
    "tv_df_col_means = tv_df.mean(axis=0,skipna = True)\n",
    "tv_df_row_means = tv_df.mean(axis=1,skipna = True)\n",
    "print(tv_df_col_means)\n",
    "print(tv_df_row_means[:6])"
   ]
  },
  {
   "cell_type": "markdown",
   "metadata": {},
   "source": [
    "Now we will break into training and test sets and calculate the raw averages:"
   ]
  },
  {
   "cell_type": "code",
   "execution_count": 5,
   "metadata": {},
   "outputs": [
    {
     "name": "stdout",
     "output_type": "stream",
     "text": [
      "The Raw Average on the Training Set is: 3.1029411764705883\n",
      "\n",
      "The Raw Average on the Test Set is: 3.2222222222222223\n",
      "\n"
     ]
    }
   ],
   "source": [
    "from sklearn.model_selection import train_test_split\n",
    "tv_col_df = tv_df.stack()\n",
    "tv_col_df.head(20)\n",
    "\n",
    "tv_train, tv_test = train_test_split(tv_col_df, test_size =0.2, random_state=42)\n",
    "tv_train = tv_train.sort_index()\n",
    "tv_test = tv_test.sort_index()\n",
    "#print(tv_train.head())\n",
    "#print(tv_test.head())\n",
    "train_raw_ave = tv_train.mean()\n",
    "test_raw_ave = tv_test.mean()\n",
    "print(\"The Raw Average on the Training Set is: \" + str(train_raw_ave) + \"\\n\")\n",
    "print(\"The Raw Average on the Test Set is: \" + str(test_raw_ave) + \"\\n\")"
   ]
  },
  {
   "cell_type": "markdown",
   "metadata": {},
   "source": [
    "Now we recast the data frames into their original wide format and calculate the row and column averages to calculate the biases:"
   ]
  },
  {
   "cell_type": "code",
   "execution_count": 6,
   "metadata": {},
   "outputs": [
    {
     "name": "stdout",
     "output_type": "stream",
     "text": [
      "Brooklyn 99                          3.777778\n",
      "It's Always Sunny in Philadelphia    2.636364\n",
      "The Big Bang Theory                  3.421053\n",
      "The Goldbergs                        2.545455\n",
      "Unbreakable Kimmy Schmidt            3.055556\n",
      "dtype: float64\n",
      "0    2.000000\n",
      "1    2.250000\n",
      "2    4.000000\n",
      "3    3.000000\n",
      "4    2.333333\n",
      "5    3.333333\n",
      "dtype: float64\n"
     ]
    }
   ],
   "source": [
    "tv_train_wide = tv_train.unstack().sort_index()\n",
    "tv_train_col_means = tv_train_wide.mean(axis=0,skipna = True)\n",
    "print(str(tv_train_col_means))\n",
    "tv_train_row_means = tv_train_wide.mean(axis=1,skipna = True)\n",
    "print(str(tv_train_row_means[:6]))"
   ]
  },
  {
   "cell_type": "code",
   "execution_count": 7,
   "metadata": {},
   "outputs": [
    {
     "name": "stdout",
     "output_type": "stream",
     "text": [
      "Brooklyn 99                          3.142857\n",
      "It's Always Sunny in Philadelphia    2.500000\n",
      "The Big Bang Theory                  3.000000\n",
      "The Goldbergs                        3.500000\n",
      "Unbreakable Kimmy Schmidt            5.000000\n",
      "dtype: float64\n",
      "0     5.0\n",
      "1     2.0\n",
      "3     3.5\n",
      "5     1.0\n",
      "6     1.0\n",
      "10    4.0\n",
      "dtype: float64\n"
     ]
    }
   ],
   "source": [
    "tv_test_wide = tv_test.unstack().sort_index()\n",
    "tv_test_wide\n",
    "tv_test_col_means = tv_test_wide.mean(axis=0,skipna = True)\n",
    "print(str(tv_test_col_means))\n",
    "tv_test_row_means = tv_test_wide.mean(axis=1,skipna = True)\n",
    "print(str(tv_test_row_means[:6]))"
   ]
  },
  {
   "cell_type": "markdown",
   "metadata": {},
   "source": [
    "Now we can calculate the RMSE for the raw averages:"
   ]
  },
  {
   "cell_type": "code",
   "execution_count": 8,
   "metadata": {},
   "outputs": [
    {
     "name": "stdout",
     "output_type": "stream",
     "text": [
      "RMSE on the Training Set is: 1.3841508958282494\n",
      "\n",
      "RMSE on the Test Set is: 1.5521886793398105\n",
      "\n"
     ]
    }
   ],
   "source": [
    "from sklearn.metrics import mean_squared_error\n",
    "\n",
    "train_pred = [tv_train.mean()]*len(tv_train)# we need a list of raw averages the same length as the stacked df\n",
    "train_pred\n",
    "train_rmse = mean_squared_error(tv_train, train_pred)**0.5\n",
    "print(\"RMSE on the Training Set is: \" + str(train_rmse) + \"\\n\")\n",
    "test_pred = [tv_train.mean()]*len(tv_test) # we need a list of raw averages the same length as the stacked df\n",
    "test_pred\n",
    "test_rmse = mean_squared_error(tv_test, test_pred)**0.5\n",
    "print(\"RMSE on the Test Set is: \" + str(test_rmse) + \"\\n\")"
   ]
  },
  {
   "cell_type": "markdown",
   "metadata": {},
   "source": [
    "Now we will use the row (user) and colunm (item) means to calculate bias, and use those biases to make better predictions for every user-item pair."
   ]
  },
  {
   "cell_type": "code",
   "execution_count": 9,
   "metadata": {},
   "outputs": [
    {
     "name": "stdout",
     "output_type": "stream",
     "text": [
      "Brooklyn 99                          0.674837\n",
      "It's Always Sunny in Philadelphia   -0.466578\n",
      "The Big Bang Theory                  0.318111\n",
      "The Goldbergs                       -0.557487\n",
      "Unbreakable Kimmy Schmidt           -0.047386\n",
      "dtype: float64\n",
      "0   -1.102941\n",
      "1   -0.852941\n",
      "2    0.897059\n",
      "3   -0.102941\n",
      "4   -0.769608\n",
      "5    0.230392\n",
      "dtype: float64\n"
     ]
    },
    {
     "data": {
      "text/html": [
       "<div>\n",
       "<style scoped>\n",
       "    .dataframe tbody tr th:only-of-type {\n",
       "        vertical-align: middle;\n",
       "    }\n",
       "\n",
       "    .dataframe tbody tr th {\n",
       "        vertical-align: top;\n",
       "    }\n",
       "\n",
       "    .dataframe thead th {\n",
       "        text-align: right;\n",
       "    }\n",
       "</style>\n",
       "<table border=\"1\" class=\"dataframe\">\n",
       "  <thead>\n",
       "    <tr style=\"text-align: right;\">\n",
       "      <th></th>\n",
       "      <th>Brooklyn 99</th>\n",
       "      <th>It's Always Sunny in Philadelphia</th>\n",
       "      <th>The Big Bang Theory</th>\n",
       "      <th>The Goldbergs</th>\n",
       "      <th>Unbreakable Kimmy Schmidt</th>\n",
       "    </tr>\n",
       "  </thead>\n",
       "  <tbody>\n",
       "    <tr>\n",
       "      <th>0</th>\n",
       "      <td>2.67484</td>\n",
       "      <td>1.53342</td>\n",
       "      <td>2.31811</td>\n",
       "      <td>1.44251</td>\n",
       "      <td>1.95261</td>\n",
       "    </tr>\n",
       "    <tr>\n",
       "      <th>1</th>\n",
       "      <td>2.92484</td>\n",
       "      <td>1.78342</td>\n",
       "      <td>2.56811</td>\n",
       "      <td>1.69251</td>\n",
       "      <td>2.20261</td>\n",
       "    </tr>\n",
       "    <tr>\n",
       "      <th>2</th>\n",
       "      <td>4.67484</td>\n",
       "      <td>3.53342</td>\n",
       "      <td>4.31811</td>\n",
       "      <td>3.44251</td>\n",
       "      <td>3.95261</td>\n",
       "    </tr>\n",
       "    <tr>\n",
       "      <th>3</th>\n",
       "      <td>3.67484</td>\n",
       "      <td>2.53342</td>\n",
       "      <td>3.31811</td>\n",
       "      <td>2.44251</td>\n",
       "      <td>2.95261</td>\n",
       "    </tr>\n",
       "    <tr>\n",
       "      <th>4</th>\n",
       "      <td>3.00817</td>\n",
       "      <td>1.86676</td>\n",
       "      <td>2.65144</td>\n",
       "      <td>1.77585</td>\n",
       "      <td>2.28595</td>\n",
       "    </tr>\n",
       "    <tr>\n",
       "      <th>5</th>\n",
       "      <td>4.00817</td>\n",
       "      <td>2.86676</td>\n",
       "      <td>3.65144</td>\n",
       "      <td>2.77585</td>\n",
       "      <td>3.28595</td>\n",
       "    </tr>\n",
       "  </tbody>\n",
       "</table>\n",
       "</div>"
      ],
      "text/plain": [
       "  Brooklyn 99 It's Always Sunny in Philadelphia The Big Bang Theory  \\\n",
       "0     2.67484                           1.53342             2.31811   \n",
       "1     2.92484                           1.78342             2.56811   \n",
       "2     4.67484                           3.53342             4.31811   \n",
       "3     3.67484                           2.53342             3.31811   \n",
       "4     3.00817                           1.86676             2.65144   \n",
       "5     4.00817                           2.86676             3.65144   \n",
       "\n",
       "  The Goldbergs Unbreakable Kimmy Schmidt  \n",
       "0       1.44251                   1.95261  \n",
       "1       1.69251                   2.20261  \n",
       "2       3.44251                   3.95261  \n",
       "3       2.44251                   2.95261  \n",
       "4       1.77585                   2.28595  \n",
       "5       2.77585                   3.28595  "
      ]
     },
     "execution_count": 9,
     "metadata": {},
     "output_type": "execute_result"
    }
   ],
   "source": [
    "show_bias = tv_train_col_means - train_raw_ave \n",
    "print(show_bias)\n",
    "user_bias = tv_train_row_means - train_raw_ave \n",
    "print(user_bias[:6]) \n",
    "tv_pred = pd.DataFrame(index=tv_df.index, columns=tv_df.columns.values)\n",
    "for i in range(0,len(user_bias)):\n",
    "    for j in range(0,len(show_bias)):\n",
    "            tv_pred.iloc[i,j] = train_raw_ave + user_bias[i] + show_bias[j]\n",
    "            if tv_pred.iloc[i,j] < 1.0:\n",
    "                tv_pred.iloc[i,j] = 1.0\n",
    "            elif tv_pred.iloc[i,j] > 5.0:\n",
    "                tv_pred.iloc[i,j] = 5.0\n",
    "tv_pred.head(6)"
   ]
  },
  {
   "cell_type": "code",
   "execution_count": 10,
   "metadata": {},
   "outputs": [
    {
     "data": {
      "text/html": [
       "<div>\n",
       "<style scoped>\n",
       "    .dataframe tbody tr th:only-of-type {\n",
       "        vertical-align: middle;\n",
       "    }\n",
       "\n",
       "    .dataframe tbody tr th {\n",
       "        vertical-align: top;\n",
       "    }\n",
       "\n",
       "    .dataframe thead th {\n",
       "        text-align: right;\n",
       "    }\n",
       "</style>\n",
       "<table border=\"1\" class=\"dataframe\">\n",
       "  <thead>\n",
       "    <tr style=\"text-align: right;\">\n",
       "      <th></th>\n",
       "      <th>Brooklyn 99</th>\n",
       "      <th>It's Always Sunny in Philadelphia</th>\n",
       "      <th>The Big Bang Theory</th>\n",
       "      <th>The Goldbergs</th>\n",
       "      <th>Unbreakable Kimmy Schmidt</th>\n",
       "    </tr>\n",
       "  </thead>\n",
       "  <tbody>\n",
       "    <tr>\n",
       "      <th>0</th>\n",
       "      <td>NaN</td>\n",
       "      <td>NaN</td>\n",
       "      <td>2.31811</td>\n",
       "      <td>1.44251</td>\n",
       "      <td>1.95261</td>\n",
       "    </tr>\n",
       "    <tr>\n",
       "      <th>1</th>\n",
       "      <td>NaN</td>\n",
       "      <td>1.78342</td>\n",
       "      <td>2.56811</td>\n",
       "      <td>1.69251</td>\n",
       "      <td>2.20261</td>\n",
       "    </tr>\n",
       "    <tr>\n",
       "      <th>2</th>\n",
       "      <td>NaN</td>\n",
       "      <td>NaN</td>\n",
       "      <td>4.31811</td>\n",
       "      <td>NaN</td>\n",
       "      <td>NaN</td>\n",
       "    </tr>\n",
       "    <tr>\n",
       "      <th>3</th>\n",
       "      <td>NaN</td>\n",
       "      <td>NaN</td>\n",
       "      <td>3.31811</td>\n",
       "      <td>NaN</td>\n",
       "      <td>2.95261</td>\n",
       "    </tr>\n",
       "    <tr>\n",
       "      <th>4</th>\n",
       "      <td>NaN</td>\n",
       "      <td>1.86676</td>\n",
       "      <td>2.65144</td>\n",
       "      <td>NaN</td>\n",
       "      <td>2.28595</td>\n",
       "    </tr>\n",
       "    <tr>\n",
       "      <th>5</th>\n",
       "      <td>4.00817</td>\n",
       "      <td>NaN</td>\n",
       "      <td>NaN</td>\n",
       "      <td>2.77585</td>\n",
       "      <td>3.28595</td>\n",
       "    </tr>\n",
       "  </tbody>\n",
       "</table>\n",
       "</div>"
      ],
      "text/plain": [
       "  Brooklyn 99 It's Always Sunny in Philadelphia The Big Bang Theory  \\\n",
       "0         NaN                               NaN             2.31811   \n",
       "1         NaN                           1.78342             2.56811   \n",
       "2         NaN                               NaN             4.31811   \n",
       "3         NaN                               NaN             3.31811   \n",
       "4         NaN                           1.86676             2.65144   \n",
       "5     4.00817                               NaN                 NaN   \n",
       "\n",
       "  The Goldbergs Unbreakable Kimmy Schmidt  \n",
       "0       1.44251                   1.95261  \n",
       "1       1.69251                   2.20261  \n",
       "2           NaN                       NaN  \n",
       "3           NaN                   2.95261  \n",
       "4           NaN                   2.28595  \n",
       "5       2.77585                   3.28595  "
      ]
     },
     "execution_count": 10,
     "metadata": {},
     "output_type": "execute_result"
    }
   ],
   "source": [
    "import math\n",
    "tv_pred_train = pd.DataFrame(index=tv_df.index, columns=tv_df.columns.values)\n",
    "tv_pred_train = tv_pred_train[sorted(tv_pred_train.columns)]\n",
    "tv_train_wide = tv_train_wide[sorted(tv_train_wide.columns)]\n",
    "for i in range(0,len(user_bias)):\n",
    "    for j in range(0,len(show_bias)):\n",
    "        if math.isnan(tv_train_wide.iloc[i,j]):\n",
    "            continue\n",
    "        else:\n",
    "            tv_pred_train.iloc[i,j] = train_raw_ave + user_bias[i] + show_bias[j]\n",
    "            if tv_pred_train.iloc[i,j] < 1.0:\n",
    "                tv_pred_train.iloc[i,j] = 1.0\n",
    "            elif tv_pred_train.iloc[i,j] > 5.0:\n",
    "                tv_pred_train.iloc[i,j] = 5.0\n",
    "tv_pred_train.head(6)"
   ]
  },
  {
   "cell_type": "code",
   "execution_count": 11,
   "metadata": {},
   "outputs": [
    {
     "name": "stdout",
     "output_type": "stream",
     "text": [
      "RMSE on the Training Set is: 0.907301749900152\n",
      "\n"
     ]
    }
   ],
   "source": [
    "train_bias_rmse = mean_squared_error(tv_train, tv_pred_train.stack().sort_index())**0.5\n",
    "print(\"RMSE on the Training Set is: \" + str(train_bias_rmse) + \"\\n\")"
   ]
  },
  {
   "cell_type": "code",
   "execution_count": 12,
   "metadata": {},
   "outputs": [
    {
     "data": {
      "text/html": [
       "<div>\n",
       "<style scoped>\n",
       "    .dataframe tbody tr th:only-of-type {\n",
       "        vertical-align: middle;\n",
       "    }\n",
       "\n",
       "    .dataframe tbody tr th {\n",
       "        vertical-align: top;\n",
       "    }\n",
       "\n",
       "    .dataframe thead th {\n",
       "        text-align: right;\n",
       "    }\n",
       "</style>\n",
       "<table border=\"1\" class=\"dataframe\">\n",
       "  <thead>\n",
       "    <tr style=\"text-align: right;\">\n",
       "      <th></th>\n",
       "      <th>Brooklyn 99</th>\n",
       "      <th>It's Always Sunny in Philadelphia</th>\n",
       "      <th>The Big Bang Theory</th>\n",
       "      <th>The Goldbergs</th>\n",
       "      <th>Unbreakable Kimmy Schmidt</th>\n",
       "    </tr>\n",
       "  </thead>\n",
       "  <tbody>\n",
       "    <tr>\n",
       "      <th>0</th>\n",
       "      <td>2.79412</td>\n",
       "      <td>NaN</td>\n",
       "      <td>NaN</td>\n",
       "      <td>NaN</td>\n",
       "      <td>NaN</td>\n",
       "    </tr>\n",
       "    <tr>\n",
       "      <th>1</th>\n",
       "      <td>3.04412</td>\n",
       "      <td>NaN</td>\n",
       "      <td>NaN</td>\n",
       "      <td>NaN</td>\n",
       "      <td>NaN</td>\n",
       "    </tr>\n",
       "    <tr>\n",
       "      <th>2</th>\n",
       "      <td>NaN</td>\n",
       "      <td>NaN</td>\n",
       "      <td>NaN</td>\n",
       "      <td>NaN</td>\n",
       "      <td>NaN</td>\n",
       "    </tr>\n",
       "    <tr>\n",
       "      <th>3</th>\n",
       "      <td>3.79412</td>\n",
       "      <td>NaN</td>\n",
       "      <td>NaN</td>\n",
       "      <td>2.56179</td>\n",
       "      <td>NaN</td>\n",
       "    </tr>\n",
       "    <tr>\n",
       "      <th>4</th>\n",
       "      <td>NaN</td>\n",
       "      <td>NaN</td>\n",
       "      <td>NaN</td>\n",
       "      <td>NaN</td>\n",
       "      <td>NaN</td>\n",
       "    </tr>\n",
       "    <tr>\n",
       "      <th>5</th>\n",
       "      <td>NaN</td>\n",
       "      <td>NaN</td>\n",
       "      <td>3.77073</td>\n",
       "      <td>NaN</td>\n",
       "      <td>NaN</td>\n",
       "    </tr>\n",
       "  </tbody>\n",
       "</table>\n",
       "</div>"
      ],
      "text/plain": [
       "  Brooklyn 99 It's Always Sunny in Philadelphia The Big Bang Theory  \\\n",
       "0     2.79412                               NaN                 NaN   \n",
       "1     3.04412                               NaN                 NaN   \n",
       "2         NaN                               NaN                 NaN   \n",
       "3     3.79412                               NaN                 NaN   \n",
       "4         NaN                               NaN                 NaN   \n",
       "5         NaN                               NaN             3.77073   \n",
       "\n",
       "  The Goldbergs Unbreakable Kimmy Schmidt  \n",
       "0           NaN                       NaN  \n",
       "1           NaN                       NaN  \n",
       "2           NaN                       NaN  \n",
       "3       2.56179                       NaN  \n",
       "4           NaN                       NaN  \n",
       "5           NaN                       NaN  "
      ]
     },
     "execution_count": 12,
     "metadata": {},
     "output_type": "execute_result"
    }
   ],
   "source": [
    "tv_pred_test = pd.DataFrame(index=tv_df.index, columns=tv_df.columns.values)\n",
    "tv_pred_test = tv_pred_test[sorted(tv_pred_test.columns)]\n",
    "tv_test_wide = tv_test_wide[sorted(tv_test_wide.columns)]\n",
    "tv_test_wide = tv_test_wide.reindex(tv_df.index)\n",
    "for l in range(0,len(user_bias)):\n",
    "    for k in range(0,len(show_bias)):\n",
    "        if math.isnan(tv_test_wide.iloc[l,k]):\n",
    "            continue\n",
    "        else:\n",
    "            tv_pred_test.iloc[l,k] = test_raw_ave + user_bias[l] + show_bias[k]\n",
    "            if tv_pred_test.iloc[l,k] < 1.0:\n",
    "                tv_pred_test.iloc[l,k] = 1.0\n",
    "            elif tv_pred_test.iloc[l,k] > 5.0:\n",
    "                tv_pred_test.iloc[l,k] = 5.0\n",
    "tv_pred_test.head(6)"
   ]
  },
  {
   "cell_type": "code",
   "execution_count": 13,
   "metadata": {},
   "outputs": [
    {
     "name": "stdout",
     "output_type": "stream",
     "text": [
      "RMSE on the Test Set is: 1.6941199070759048\n",
      "\n"
     ]
    }
   ],
   "source": [
    "test_bias_rmse = mean_squared_error(tv_test, tv_pred_test.stack().sort_index())**0.5\n",
    "print(\"RMSE on the Test Set is: \" + str(test_bias_rmse) + \"\\n\")"
   ]
  },
  {
   "cell_type": "markdown",
   "metadata": {},
   "source": [
    "Notice that relative to the training set including the biases in the prediction improved RMSE from 1.384 to 0.907. However for the test set RMSE actually went up from 1.552 to 1.694. This is due to the small amount of data in the set 120 user-items total, so the training set is 96 user-items and the test set is 24 user-items.  \n",
    "\n",
    "For example, user 0 had Brooklyn 99 assigned to the test set that took the users average rating from a 2.75 to a 2.00. This reduces the user bias by -0.75 from a  -0.353 to -1.103, and this greatly reduces the values of the predicted ratings. Had Unbreakable Kimmy Schmidt been selected for the test set, user 0's average would have gone from 2.75 to 2.67, and bias would go from -0.353 to -0.463.\n",
    "\n",
    "Had the data set been hundreds of ratings from thousands of options the changes the differences in the averages and baises would be less extreme and we would expect that the RMSE on the test set to show similar behavior to the training set in this case."
   ]
  }
 ],
 "metadata": {
  "kernelspec": {
   "display_name": "Python 3",
   "language": "python",
   "name": "python3"
  },
  "language_info": {
   "codemirror_mode": {
    "name": "ipython",
    "version": 3
   },
   "file_extension": ".py",
   "mimetype": "text/x-python",
   "name": "python",
   "nbconvert_exporter": "python",
   "pygments_lexer": "ipython3",
   "version": "3.6.5"
  }
 },
 "nbformat": 4,
 "nbformat_minor": 2
}
