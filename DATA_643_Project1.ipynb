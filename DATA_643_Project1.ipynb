{
 "cells": [
  {
   "cell_type": "markdown",
   "metadata": {},
   "source": [
    "DATA 643 Project 1:\n",
    "\n",
    "Angus, Pevan, Nathan\n",
    "\n",
    "We built a simple recommender system for American TV sit-coms. This system will take user input for a sit com and predict the user's preference for possible unwatched sitcoms. This is similar in approach to systems used by Netflix, Hulu and Amazon Prime.\n",
    "\n",
    "We used Facebook to collect data on 5 popular American TV sitcoms: The Big Bang Theory,\tBrooklyn 99, It's Always Sunny in Philadelphia,\tThe Goldbergs, and The Unbreakable Kimmy Schmidt. Facebook friends were asked to rate these shows from 1 for 'Awful' to 5 for 'Outstanding' and to leave blank un-watched shows using a Google Docs Quiz. The data from the Google We will in turn use these data to generate a basic recommendation system for a test set of withheld data and unwatched shows. \n",
    "\n",
    "• Load your data into (for example) an R or pandas dataframe, a Python dictionary or list of lists, (or another data structure of your choosing). From there, create a user-item matrix.\n",
    "• If you choose to work with a large dataset, you’re encouraged to also create a small, relatively dense “user-item” matrix as a subset so that you can hand-verify your calculations.\n",
    "• Break your ratings into separate training and test datasets.\n",
    "• Using your training data, calculate the raw average (mean) rating for every user-item combination.\n",
    "• Calculate the RMSE for raw average for both your training data and your test data.\n",
    "• Using your training data, calculate the bias for each user and each item.\n",
    "• From the raw average, and the appropriate user and item biases, calculate the baseline predictors for every user-item combination.\n",
    "• Calculate the RMSE for the baseline predictors for both your training data and your test data.\n",
    "• Summarize your results."
   ]
  },
  {
   "cell_type": "code",
   "execution_count": null,
   "metadata": {},
   "outputs": [],
   "source": [
    "#import desired packages here:\n",
    "import pandas as pd "
   ]
  },
  {
   "cell_type": "code",
   "execution_count": 16,
   "metadata": {},
   "outputs": [
    {
     "data": {
      "text/html": [
       "<div>\n",
       "<style scoped>\n",
       "    .dataframe tbody tr th:only-of-type {\n",
       "        vertical-align: middle;\n",
       "    }\n",
       "\n",
       "    .dataframe tbody tr th {\n",
       "        vertical-align: top;\n",
       "    }\n",
       "\n",
       "    .dataframe thead th {\n",
       "        text-align: right;\n",
       "    }\n",
       "</style>\n",
       "<table border=\"1\" class=\"dataframe\">\n",
       "  <thead>\n",
       "    <tr style=\"text-align: right;\">\n",
       "      <th></th>\n",
       "      <th>The Big Bang Theory</th>\n",
       "      <th>Brooklyn 99</th>\n",
       "      <th>It's Always Sunny in Philadelphia</th>\n",
       "      <th>The Goldbergs</th>\n",
       "      <th>Unbreakable Kimmy Schmidt</th>\n",
       "    </tr>\n",
       "  </thead>\n",
       "  <tbody>\n",
       "    <tr>\n",
       "      <th>0</th>\n",
       "      <td>1.0</td>\n",
       "      <td>5.0</td>\n",
       "      <td>NaN</td>\n",
       "      <td>2.0</td>\n",
       "      <td>3.0</td>\n",
       "    </tr>\n",
       "    <tr>\n",
       "      <th>1</th>\n",
       "      <td>3.0</td>\n",
       "      <td>2.0</td>\n",
       "      <td>3.0</td>\n",
       "      <td>2.0</td>\n",
       "      <td>1.0</td>\n",
       "    </tr>\n",
       "    <tr>\n",
       "      <th>2</th>\n",
       "      <td>4.0</td>\n",
       "      <td>NaN</td>\n",
       "      <td>NaN</td>\n",
       "      <td>NaN</td>\n",
       "      <td>NaN</td>\n",
       "    </tr>\n",
       "    <tr>\n",
       "      <th>3</th>\n",
       "      <td>1.0</td>\n",
       "      <td>4.0</td>\n",
       "      <td>NaN</td>\n",
       "      <td>3.0</td>\n",
       "      <td>5.0</td>\n",
       "    </tr>\n",
       "    <tr>\n",
       "      <th>4</th>\n",
       "      <td>2.0</td>\n",
       "      <td>NaN</td>\n",
       "      <td>2.0</td>\n",
       "      <td>NaN</td>\n",
       "      <td>3.0</td>\n",
       "    </tr>\n",
       "  </tbody>\n",
       "</table>\n",
       "</div>"
      ],
      "text/plain": [
       "   The Big Bang Theory  Brooklyn 99  It's Always Sunny in Philadelphia  \\\n",
       "0                  1.0          5.0                                NaN   \n",
       "1                  3.0          2.0                                3.0   \n",
       "2                  4.0          NaN                                NaN   \n",
       "3                  1.0          4.0                                NaN   \n",
       "4                  2.0          NaN                                2.0   \n",
       "\n",
       "   The Goldbergs  Unbreakable Kimmy Schmidt  \n",
       "0            2.0                        3.0  \n",
       "1            2.0                        1.0  \n",
       "2            NaN                        NaN  \n",
       "3            3.0                        5.0  \n",
       "4            NaN                        3.0  "
      ]
     },
     "execution_count": 16,
     "metadata": {},
     "output_type": "execute_result"
    }
   ],
   "source": [
    "tv_df = pd.read_csv('https://raw.githubusercontent.com/ncooper76/MSDA/master/TV_Show_Preferences.csv')\n",
    "tv_df = tv_df.drop(columns=[\"Timestamp\"])\n",
    "tv_df.head()"
   ]
  },
  {
   "cell_type": "code",
   "execution_count": 21,
   "metadata": {},
   "outputs": [
    {
     "name": "stdout",
     "output_type": "stream",
     "text": [
      "3.127906976744186\n",
      "The Big Bang Theory                  3.347826\n",
      "Brooklyn 99                          3.500000\n",
      "It's Always Sunny in Philadelphia    2.615385\n",
      "The Goldbergs                        2.800000\n",
      "Unbreakable Kimmy Schmidt            3.157895\n",
      "dtype: float64\n",
      "0     2.750000\n",
      "1     2.200000\n",
      "2     4.000000\n",
      "3     3.250000\n",
      "4     2.333333\n",
      "5     2.750000\n",
      "6     2.200000\n",
      "7     5.000000\n",
      "8     1.666667\n",
      "9     4.000000\n",
      "10    4.000000\n",
      "11    3.500000\n",
      "12    3.750000\n",
      "13    5.000000\n",
      "14    3.600000\n",
      "15    4.500000\n",
      "16    2.400000\n",
      "17    4.400000\n",
      "18    3.800000\n",
      "19    5.000000\n",
      "20    2.000000\n",
      "21    3.666667\n",
      "22    3.000000\n",
      "23    1.600000\n",
      "dtype: float64\n"
     ]
    }
   ],
   "source": [
    "tv_df_mean = tv_df.stack().mean(skipna = True) #stack makes the DF one column, mean takes the mean of that colunm.\n",
    "print(tv_df_mean) # 3.1279... agrees with the average taken in Google Sheets\n",
    "#below are the means for the rows and the columns of the dataframe\n",
    "tv_df_col_means = tv_df.mean(axis=0,skipna = True)\n",
    "print(tv_df_col_means)\n",
    "tv_df_row_means = tv_df.mean(axis=1,skipna = True)\n",
    "print(tv_df_row_means)"
   ]
  },
  {
   "cell_type": "code",
   "execution_count": null,
   "metadata": {},
   "outputs": [],
   "source": []
  }
 ],
 "metadata": {
  "kernelspec": {
   "display_name": "Python 3",
   "language": "python",
   "name": "python3"
  },
  "language_info": {
   "codemirror_mode": {
    "name": "ipython",
    "version": 3
   },
   "file_extension": ".py",
   "mimetype": "text/x-python",
   "name": "python",
   "nbconvert_exporter": "python",
   "pygments_lexer": "ipython3",
   "version": "3.6.5"
  }
 },
 "nbformat": 4,
 "nbformat_minor": 2
}

