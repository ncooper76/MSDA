{
 "cells": [
  {
   "cell_type": "markdown",
   "metadata": {},
   "source": [
    "DATA 643 Project 1:\n",
    "\n",
    "Angus, Pevan, Nathan\n",
    "\n",
    "We built a simple recommender system for American TV sit-coms. This system will take user input for a sit com and predict the user's preference for possible unwatched sitcoms. This is similar in approach to systems used by Netflix, Hulu and Amazon Prime.\n",
    "\n",
    "We used Facebook to collect data on 5 popular American TV sitcoms: The Big Bang Theory,\tBrooklyn 99, It's Always Sunny in Philadelphia,\tThe Goldbergs, and The Unbreakable Kimmy Schmidt. Facebook friends were asked to rate these shows from 1 for 'Awful' to 5 for 'Outstanding' and to leave blank un-watched shows using a Google Docs Quiz. The data from the Google We will in turn use these data to generate a basic recommendation system for a test set of withheld data and unwatched shows. \n",
    "\n",
    "• Load your data into (for example) an R or pandas dataframe, a Python dictionary or list of lists, (or another data structure of your choosing). From there, create a user-item matrix.\n",
    "• If you choose to work with a large dataset, you’re encouraged to also create a small, relatively dense “user-item” matrix as a subset so that you can hand-verify your calculations.\n",
    "• Break your ratings into separate training and test datasets.\n",
    "• Using your training data, calculate the raw average (mean) rating for every user-item combination.\n",
    "• Calculate the RMSE for raw average for both your training data and your test data.\n",
    "• Using your training data, calculate the bias for each user and each item.\n",
    "• From the raw average, and the appropriate user and item biases, calculate the baseline predictors for every user-item combination.\n",
    "• Calculate the RMSE for the baseline predictors for both your training data and your test data.\n",
    "• Summarize your results."
   ]
  },
  {
   "cell_type": "code",
   "execution_count": null,
   "metadata": {},
   "outputs": [],
   "source": [
    "#import desired packages here:\n",
    "import pandas as pd "
   ]
  },
  {
   "cell_type": "code",
   "execution_count": 10,
   "metadata": {},
   "outputs": [
    {
     "name": "stdout",
     "output_type": "stream",
     "text": [
      "3.127906976744186\n"
     ]
    }
   ],
   "source": [
    "tv_df = pd.read_csv('https://raw.githubusercontent.com/ncooper76/MSDA/master/TV_Show_Preferences.csv')\n",
    "tv_df = tv_df.drop(columns=[\"Timestamp\"])\n",
    "tv_df.head()\n",
    "tv_df_mean = tv_df.stack().mean(skipna = True) #stack makes the DF one column, mean takes the mean of that colunm.\n",
    "print(tv_df_mean)"
   ]
  },
  {
   "cell_type": "code",
   "execution_count": null,
   "metadata": {},
   "outputs": [],
   "source": []
  }
 ],
 "metadata": {
  "kernelspec": {
   "display_name": "Python 3",
   "language": "python",
   "name": "python3"
  },
  "language_info": {
   "codemirror_mode": {
    "name": "ipython",
    "version": 3
   },
   "file_extension": ".py",
   "mimetype": "text/x-python",
   "name": "python",
   "nbconvert_exporter": "python",
   "pygments_lexer": "ipython3",
   "version": "3.6.5"
  }
 },
 "nbformat": 4,
 "nbformat_minor": 2
}
