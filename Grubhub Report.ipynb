{
 "cells": [
  {
   "cell_type": "markdown",
   "metadata": {},
   "source": [
    "Grubhub is a food-ordering website that allows you to look at menus and place orders for pick-up or delivery from any participating area restaurant. \n",
    "To order you can place key words for a type of cuisine or dish and it will also recommend restaurants based on previous orders. This suggests a content-based filtering system.\n",
    "\n",
    "However,  once a set of keywords is entered, it will generate a list of matches that is first prioritized by sponsored restaurants, that is restaurants that payed more to have their listing bumped up, then by previous restaurants you ordered from and then by a 5-star rating system. Delivery time a proximity also play a role, however these can be gamed by the restaurants by falsely reporting when the food left for delivery. So, be ware of restaurants that have long distances and short delivery times. The five star rating system is a type of collaborative filtering. The proximity and buy-in systems suggest weighing factors that exist within the recommender system.\n",
    "\n",
    "This would place Grubhub as a Hybrid system. \n",
    "\n",
    "As for attacks on recommender systems, for the example in the reading you could look for sudden trends that are coming from a specific location and effect a specific target. For a mature recommender system, you would have data of a times and locations of recommendations being uploaded into the system. You would also have data of the frequency of recommendations. I would expect that recommendations pick up in frequency around the theater and dvd/streaming release dates and then they drop sharply. Locations would be concentrated by country of origin and language of the film and diffuse to other countries and languages from there. I would set up a system that would flag anomalies and leave it to the user to protest the flag to a customer service rep.\n",
    "\n",
    "Grubhub delivers a good experience with the caveat that you have to pay attention to the proximities and estimated delivery times. Does a 4.5 star restaurant boast a <25 min delivery time? It might mean that they get little traffic, but padded their ratings with phony accounts."
   ]
  }
 ],
 "metadata": {
  "kernelspec": {
   "display_name": "Python 3",
   "language": "python",
   "name": "python3"
  },
  "language_info": {
   "codemirror_mode": {
    "name": "ipython",
    "version": 3
   },
   "file_extension": ".py",
   "mimetype": "text/x-python",
   "name": "python",
   "nbconvert_exporter": "python",
   "pygments_lexer": "ipython3",
   "version": "3.6.5"
  }
 },
 "nbformat": 4,
 "nbformat_minor": 2
}
