{
 "cells": [
  {
   "cell_type": "markdown",
   "metadata": {},
   "source": [
    "## NLP and Bot Detection\n",
    "\n",
    "We will begin to see an increase in [chatbots](https://arxiv.org/abs/1706.10076) as an interface for recommender systems.  If such bots elicit feedback from people to refine their recommendations, they may be particularly susceptible to malicious chat bots themselves. In fact, such technology [exists for yelp](https://theverge.com/2017/8/31/16232180/ai-fake-reviews-yelp-amazon) however, the subtle difference is the yelp bot produces static content meant to be read by humans whereas the bot-to-bot communication may never be read by a human. \n",
    "\n",
    "The news has ben full of articles of how Russian Intelligence Agencies used bots to spam social media with [devisive propoganda](https://www.theguardian.com/technology/2018/jan/19/twitter-admits-far-more-russian-bots-posted-on-election-than-it-had-disclosed) in the US 2016 Presidental Elections and other critical elections of rival countries, such as [Brexit](https://techcrunch.com/2017/11/15/study-russian-twitter-bots-sent-45k-brexit-tweets-close-to-vote/). In my hypothetical scenerio, bad actors could use bots to affect the results of the recommender systems of a site like Youtube, and exacerbate problems like recommending extemist vidoes.\n",
    "\n",
    "It seems to build a robust system that would not be susceptible to large scale manipulation would to build tests using NLP that may check if the recommender bot is talking to a real person or a malicious bot. Other forms of analysis may also be used to check origin and frequency of the attack. Humans can only type so fast.\n"
   ]
  },
  {
   "cell_type": "code",
   "execution_count": null,
   "metadata": {},
   "outputs": [],
   "source": []
  }
 ],
 "metadata": {
  "kernelspec": {
   "display_name": "Python 3",
   "language": "python",
   "name": "python3"
  },
  "language_info": {
   "codemirror_mode": {
    "name": "ipython",
    "version": 3
   },
   "file_extension": ".py",
   "mimetype": "text/x-python",
   "name": "python",
   "nbconvert_exporter": "python",
   "pygments_lexer": "ipython3",
   "version": "3.6.5"
  }
 },
 "nbformat": 4,
 "nbformat_minor": 2
}
